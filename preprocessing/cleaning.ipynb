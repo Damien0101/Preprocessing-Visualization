{
 "cells": [
  {
   "cell_type": "markdown",
   "metadata": {},
   "source": [
    "# Import"
   ]
  },
  {
   "cell_type": "code",
   "execution_count": 110,
   "metadata": {},
   "outputs": [],
   "source": [
    "import pandas as pd\n",
    "import numpy as np\n",
    "import datetime\n",
    "\n"
   ]
  },
  {
   "cell_type": "markdown",
   "metadata": {},
   "source": [
    "## Transform the .json into csv then dataframe  "
   ]
  },
  {
   "cell_type": "code",
   "execution_count": 117,
   "metadata": {},
   "outputs": [
    {
     "ename": "TypeError",
     "evalue": "read_json() got an unexpected keyword argument 'skipinitialspace'",
     "output_type": "error",
     "traceback": [
      "\u001b[1;31m---------------------------------------------------------------------------\u001b[0m",
      "\u001b[1;31mTypeError\u001b[0m                                 Traceback (most recent call last)",
      "Cell \u001b[1;32mIn[117], line 1\u001b[0m\n\u001b[1;32m----> 1\u001b[0m data \u001b[38;5;241m=\u001b[39m \u001b[43mpd\u001b[49m\u001b[38;5;241;43m.\u001b[39;49m\u001b[43mread_json\u001b[49m\u001b[43m(\u001b[49m\u001b[38;5;124;43m\"\u001b[39;49m\u001b[38;5;124;43m../data/final_dataset.json\u001b[39;49m\u001b[38;5;124;43m\"\u001b[39;49m\u001b[43m,\u001b[49m\u001b[43m \u001b[49m\u001b[43mskipinitialspace\u001b[49m\u001b[38;5;241;43m=\u001b[39;49m\u001b[38;5;28;43;01mTrue\u001b[39;49;00m\u001b[43m)\u001b[49m\n\u001b[0;32m      3\u001b[0m df \u001b[38;5;241m=\u001b[39m pd\u001b[38;5;241m.\u001b[39mDataFrame(data)\n\u001b[0;32m      4\u001b[0m data_csv1 \u001b[38;5;241m=\u001b[39m df\u001b[38;5;241m.\u001b[39mto_csv(\u001b[38;5;124m\"\u001b[39m\u001b[38;5;124m../data/dataset1.csv\u001b[39m\u001b[38;5;124m\"\u001b[39m)\n",
      "\u001b[1;31mTypeError\u001b[0m: read_json() got an unexpected keyword argument 'skipinitialspace'"
     ]
    }
   ],
   "source": [
    "data = pd.read_json(\"../data/final_dataset.json\")\n",
    "\n",
    "df = pd.DataFrame(data)\n",
    "data_csv1 = df.to_csv(\"../data/dataset1.csv\")\n",
    "\n",
    "df.head()"
   ]
  },
  {
   "cell_type": "code",
   "execution_count": 112,
   "metadata": {},
   "outputs": [
    {
     "data": {
      "text/plain": [
       "Index(['Url', 'BathroomCount', 'BedroomCount', 'ConstructionYear', 'Country',\n",
       "       'District', 'Fireplace', 'FloodingZone', 'Furnished', 'Garden',\n",
       "       'GardenArea', 'Kitchen', 'LivingArea', 'Locality', 'MonthlyCharges',\n",
       "       'NumberOfFacades', 'PEB', 'PostalCode', 'Price', 'PropertyId',\n",
       "       'Province', 'Region', 'RoomCount', 'ShowerCount', 'StateOfBuilding',\n",
       "       'SubtypeOfProperty', 'SurfaceOfPlot', 'SwimmingPool', 'Terrace',\n",
       "       'ToiletCount', 'TypeOfProperty', 'TypeOfSale'],\n",
       "      dtype='object')"
      ]
     },
     "execution_count": 112,
     "metadata": {},
     "output_type": "execute_result"
    }
   ],
   "source": [
    "df.columns\n",
    "\n"
   ]
  },
  {
   "cell_type": "code",
   "execution_count": 113,
   "metadata": {},
   "outputs": [
    {
     "data": {
      "text/plain": [
       "(118714, 32)"
      ]
     },
     "execution_count": 113,
     "metadata": {},
     "output_type": "execute_result"
    }
   ],
   "source": [
    "df.shape"
   ]
  },
  {
   "cell_type": "markdown",
   "metadata": {},
   "source": [
    "### Start cleaning \n",
    "- No duplicates\n",
    "- No blank spaces (ex: `\" I love python \"` => `\"I love python\"`)\n",
    "- No errors\n",
    "- No empty values"
   ]
  },
  {
   "cell_type": "code",
   "execution_count": 114,
   "metadata": {},
   "outputs": [
    {
     "data": {
      "text/plain": [
       "(118714, 32)"
      ]
     },
     "execution_count": 114,
     "metadata": {},
     "output_type": "execute_result"
    }
   ],
   "source": [
    "df.drop_duplicates(inplace=True)\n",
    "df.drop(columns = [\"Country\", \"Fireplace\"])\n",
    "df.shape"
   ]
  },
  {
   "cell_type": "markdown",
   "metadata": {},
   "source": [
    "### Remove the house built more than 10 year in the future "
   ]
  },
  {
   "cell_type": "code",
   "execution_count": 115,
   "metadata": {},
   "outputs": [],
   "source": [
    "year_threshold = datetime.datetime.today().year + 10\n",
    "        \n",
    "df = df.loc[(df['ConstructionYear'].isnull()) | (df['ConstructionYear'] <= year_threshold)]\n",
    "df = df.loc[~((df['GardenArea'] > 0) & (df['Garden'] == False))]\n",
    "df = df.loc[df['LivingArea'] >= 9]\n",
    "# df = df.loc[df['TypeOfSale']]\n",
    "\n",
    "df.to_csv(\"../data/dataset1.csv\")"
   ]
  },
  {
   "cell_type": "markdown",
   "metadata": {},
   "source": [
    "#### Fill some empty values "
   ]
  },
  {
   "cell_type": "code",
   "execution_count": 116,
   "metadata": {},
   "outputs": [],
   "source": [
    "fill_values = {\n",
    "    \"StateOfBuilding\": \"null\",\n",
    "    \"Kitchen\": \"null\",\n",
    "    \"SurfaceOfPlot\": 0,\n",
    "    \"ConstructionYear\": \"null\",\n",
    "    \"GardenArea\": 0,\n",
    "    \"Garden\": 0,\n",
    "    \"Furnished\": 0,\n",
    "    \"PEB\": \"null\",\n",
    "    \"FloodingZone\": \"null\",\n",
    "    \"BathroomCount\": 0,\n",
    "    \"NumberOfFacades\": \"null\",\n",
    "    \"MonthlyCharges\": 0,\n",
    "    \"SwimmingPool\": 0,\n",
    "    \"Terrace\": 0,\n",
    "    \"ToiletCount\": 0,\n",
    "    \"RoomCount\": 0,\n",
    "    \"Region\": \"null\"\n",
    "}\n",
    "\n",
    "df.fillna(value=fill_values, inplace=True)\n",
    "\n",
    "data_csv1 = df.to_csv(\"../data/dataset1.csv\")"
   ]
  },
  {
   "cell_type": "markdown",
   "metadata": {},
   "source": [
    "# Strip values of blank space "
   ]
  },
  {
   "cell_type": "code",
   "execution_count": 121,
   "metadata": {},
   "outputs": [],
   "source": [
    "for i in df.columns :\n",
    "    #Check datatype for each columns\n",
    "    if df[i].dtype == \"str\" : \n",
    "        df[i] = df[i].map(str.strip)"
   ]
  }
 ],
 "metadata": {
  "kernelspec": {
   "display_name": ".venv",
   "language": "python",
   "name": "python3"
  },
  "language_info": {
   "codemirror_mode": {
    "name": "ipython",
    "version": 3
   },
   "file_extension": ".py",
   "mimetype": "text/x-python",
   "name": "python",
   "nbconvert_exporter": "python",
   "pygments_lexer": "ipython3",
   "version": "3.12.4"
  }
 },
 "nbformat": 4,
 "nbformat_minor": 2
}
