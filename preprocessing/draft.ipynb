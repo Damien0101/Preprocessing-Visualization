{
 "cells": [
  {
   "cell_type": "markdown",
   "metadata": {},
   "source": [
    "# Import"
   ]
  },
  {
   "cell_type": "code",
   "execution_count": 152,
   "metadata": {},
   "outputs": [],
   "source": [
    "import pandas as pd\n",
    "import numpy as np\n",
    "import datetime"
   ]
  },
  {
   "cell_type": "markdown",
   "metadata": {},
   "source": [
    "## Transform the .json into csv then dataframe  "
   ]
  },
  {
   "cell_type": "code",
   "execution_count": 153,
   "metadata": {},
   "outputs": [
    {
     "data": {
      "text/html": [
       "<div>\n",
       "<style scoped>\n",
       "    .dataframe tbody tr th:only-of-type {\n",
       "        vertical-align: middle;\n",
       "    }\n",
       "\n",
       "    .dataframe tbody tr th {\n",
       "        vertical-align: top;\n",
       "    }\n",
       "\n",
       "    .dataframe thead th {\n",
       "        text-align: right;\n",
       "    }\n",
       "</style>\n",
       "<table border=\"1\" class=\"dataframe\">\n",
       "  <thead>\n",
       "    <tr style=\"text-align: right;\">\n",
       "      <th></th>\n",
       "      <th>Url</th>\n",
       "      <th>BathroomCount</th>\n",
       "      <th>BedroomCount</th>\n",
       "      <th>ConstructionYear</th>\n",
       "      <th>Country</th>\n",
       "      <th>District</th>\n",
       "      <th>Fireplace</th>\n",
       "      <th>FloodingZone</th>\n",
       "      <th>Furnished</th>\n",
       "      <th>Garden</th>\n",
       "      <th>...</th>\n",
       "      <th>RoomCount</th>\n",
       "      <th>ShowerCount</th>\n",
       "      <th>StateOfBuilding</th>\n",
       "      <th>SubtypeOfProperty</th>\n",
       "      <th>SurfaceOfPlot</th>\n",
       "      <th>SwimmingPool</th>\n",
       "      <th>Terrace</th>\n",
       "      <th>ToiletCount</th>\n",
       "      <th>TypeOfProperty</th>\n",
       "      <th>TypeOfSale</th>\n",
       "    </tr>\n",
       "  </thead>\n",
       "  <tbody>\n",
       "    <tr>\n",
       "      <th>2</th>\n",
       "      <td>https://www.immoweb.be/en/classified/apartment...</td>\n",
       "      <td>1.0</td>\n",
       "      <td>1</td>\n",
       "      <td>1969.0</td>\n",
       "      <td>Belgium</td>\n",
       "      <td>Brugge</td>\n",
       "      <td>NaN</td>\n",
       "      <td>None</td>\n",
       "      <td>NaN</td>\n",
       "      <td>NaN</td>\n",
       "      <td>...</td>\n",
       "      <td>1.0</td>\n",
       "      <td>0.0</td>\n",
       "      <td>GOOD</td>\n",
       "      <td>flat_studio</td>\n",
       "      <td>NaN</td>\n",
       "      <td>NaN</td>\n",
       "      <td>1.0</td>\n",
       "      <td>1.0</td>\n",
       "      <td>2</td>\n",
       "      <td>residential_sale</td>\n",
       "    </tr>\n",
       "    <tr>\n",
       "      <th>6</th>\n",
       "      <td>https://www.immoweb.be/en/classified/house/for...</td>\n",
       "      <td>6.0</td>\n",
       "      <td>13</td>\n",
       "      <td>1920.0</td>\n",
       "      <td>Belgium</td>\n",
       "      <td>Tournai</td>\n",
       "      <td>NaN</td>\n",
       "      <td>None</td>\n",
       "      <td>0.0</td>\n",
       "      <td>NaN</td>\n",
       "      <td>...</td>\n",
       "      <td>31.0</td>\n",
       "      <td>NaN</td>\n",
       "      <td>GOOD</td>\n",
       "      <td>apartment_block</td>\n",
       "      <td>130.0</td>\n",
       "      <td>NaN</td>\n",
       "      <td>NaN</td>\n",
       "      <td>5.0</td>\n",
       "      <td>1</td>\n",
       "      <td>residential_sale</td>\n",
       "    </tr>\n",
       "    <tr>\n",
       "      <th>8</th>\n",
       "      <td>https://www.immoweb.be/en/classified/house/for...</td>\n",
       "      <td>2.0</td>\n",
       "      <td>4</td>\n",
       "      <td>2008.0</td>\n",
       "      <td>Belgium</td>\n",
       "      <td>Brugge</td>\n",
       "      <td>NaN</td>\n",
       "      <td>NON_FLOOD_ZONE</td>\n",
       "      <td>1.0</td>\n",
       "      <td>NaN</td>\n",
       "      <td>...</td>\n",
       "      <td>NaN</td>\n",
       "      <td>0.0</td>\n",
       "      <td>GOOD</td>\n",
       "      <td>house</td>\n",
       "      <td>0.0</td>\n",
       "      <td>NaN</td>\n",
       "      <td>NaN</td>\n",
       "      <td>2.0</td>\n",
       "      <td>1</td>\n",
       "      <td>residential_sale</td>\n",
       "    </tr>\n",
       "    <tr>\n",
       "      <th>10</th>\n",
       "      <td>https://www.immoweb.be/en/classified/house/for...</td>\n",
       "      <td>1.0</td>\n",
       "      <td>4</td>\n",
       "      <td>NaN</td>\n",
       "      <td>Belgium</td>\n",
       "      <td>Veurne</td>\n",
       "      <td>NaN</td>\n",
       "      <td>None</td>\n",
       "      <td>NaN</td>\n",
       "      <td>1.0</td>\n",
       "      <td>...</td>\n",
       "      <td>NaN</td>\n",
       "      <td>NaN</td>\n",
       "      <td>TO_BE_DONE_UP</td>\n",
       "      <td>house</td>\n",
       "      <td>170.0</td>\n",
       "      <td>0.0</td>\n",
       "      <td>1.0</td>\n",
       "      <td>2.0</td>\n",
       "      <td>1</td>\n",
       "      <td>residential_sale</td>\n",
       "    </tr>\n",
       "    <tr>\n",
       "      <th>11</th>\n",
       "      <td>https://www.immoweb.be/en/classified/apartment...</td>\n",
       "      <td>0.0</td>\n",
       "      <td>2</td>\n",
       "      <td>1972.0</td>\n",
       "      <td>Belgium</td>\n",
       "      <td>Hasselt</td>\n",
       "      <td>NaN</td>\n",
       "      <td>NON_FLOOD_ZONE</td>\n",
       "      <td>NaN</td>\n",
       "      <td>NaN</td>\n",
       "      <td>...</td>\n",
       "      <td>1.0</td>\n",
       "      <td>0.0</td>\n",
       "      <td>AS_NEW</td>\n",
       "      <td>apartment</td>\n",
       "      <td>NaN</td>\n",
       "      <td>NaN</td>\n",
       "      <td>1.0</td>\n",
       "      <td>1.0</td>\n",
       "      <td>2</td>\n",
       "      <td>residential_sale</td>\n",
       "    </tr>\n",
       "  </tbody>\n",
       "</table>\n",
       "<p>5 rows × 32 columns</p>\n",
       "</div>"
      ],
      "text/plain": [
       "                                                  Url  BathroomCount  \\\n",
       "2   https://www.immoweb.be/en/classified/apartment...            1.0   \n",
       "6   https://www.immoweb.be/en/classified/house/for...            6.0   \n",
       "8   https://www.immoweb.be/en/classified/house/for...            2.0   \n",
       "10  https://www.immoweb.be/en/classified/house/for...            1.0   \n",
       "11  https://www.immoweb.be/en/classified/apartment...            0.0   \n",
       "\n",
       "    BedroomCount  ConstructionYear  Country District  Fireplace  \\\n",
       "2              1            1969.0  Belgium   Brugge        NaN   \n",
       "6             13            1920.0  Belgium  Tournai        NaN   \n",
       "8              4            2008.0  Belgium   Brugge        NaN   \n",
       "10             4               NaN  Belgium   Veurne        NaN   \n",
       "11             2            1972.0  Belgium  Hasselt        NaN   \n",
       "\n",
       "      FloodingZone  Furnished  Garden  ...  RoomCount ShowerCount  \\\n",
       "2             None        NaN     NaN  ...        1.0         0.0   \n",
       "6             None        0.0     NaN  ...       31.0         NaN   \n",
       "8   NON_FLOOD_ZONE        1.0     NaN  ...        NaN         0.0   \n",
       "10            None        NaN     1.0  ...        NaN         NaN   \n",
       "11  NON_FLOOD_ZONE        NaN     NaN  ...        1.0         0.0   \n",
       "\n",
       "    StateOfBuilding SubtypeOfProperty  SurfaceOfPlot  SwimmingPool Terrace  \\\n",
       "2              GOOD       flat_studio            NaN           NaN     1.0   \n",
       "6              GOOD   apartment_block          130.0           NaN     NaN   \n",
       "8              GOOD             house            0.0           NaN     NaN   \n",
       "10    TO_BE_DONE_UP             house          170.0           0.0     1.0   \n",
       "11           AS_NEW         apartment            NaN           NaN     1.0   \n",
       "\n",
       "    ToiletCount  TypeOfProperty        TypeOfSale  \n",
       "2           1.0               2  residential_sale  \n",
       "6           5.0               1  residential_sale  \n",
       "8           2.0               1  residential_sale  \n",
       "10          2.0               1  residential_sale  \n",
       "11          1.0               2  residential_sale  \n",
       "\n",
       "[5 rows x 32 columns]"
      ]
     },
     "execution_count": 153,
     "metadata": {},
     "output_type": "execute_result"
    }
   ],
   "source": [
    "data = pd.read_json(\"../data/final_dataset.json\")\n",
    "\n",
    "df = pd.DataFrame(data)\n",
    "data_csv1 = df.to_csv(\"../data/dataset1.csv\")\n",
    "\n",
    "df.head()"
   ]
  },
  {
   "cell_type": "code",
   "execution_count": 154,
   "metadata": {},
   "outputs": [
    {
     "data": {
      "text/plain": [
       "Index(['Url', 'BathroomCount', 'BedroomCount', 'ConstructionYear', 'Country',\n",
       "       'District', 'Fireplace', 'FloodingZone', 'Furnished', 'Garden',\n",
       "       'GardenArea', 'Kitchen', 'LivingArea', 'Locality', 'MonthlyCharges',\n",
       "       'NumberOfFacades', 'PEB', 'PostalCode', 'Price', 'PropertyId',\n",
       "       'Province', 'Region', 'RoomCount', 'ShowerCount', 'StateOfBuilding',\n",
       "       'SubtypeOfProperty', 'SurfaceOfPlot', 'SwimmingPool', 'Terrace',\n",
       "       'ToiletCount', 'TypeOfProperty', 'TypeOfSale'],\n",
       "      dtype='object')"
      ]
     },
     "execution_count": 154,
     "metadata": {},
     "output_type": "execute_result"
    }
   ],
   "source": [
    "df.columns\n",
    "\n"
   ]
  },
  {
   "cell_type": "code",
   "execution_count": 155,
   "metadata": {},
   "outputs": [
    {
     "data": {
      "text/plain": [
       "(118714, 32)"
      ]
     },
     "execution_count": 155,
     "metadata": {},
     "output_type": "execute_result"
    }
   ],
   "source": [
    "df.shape"
   ]
  },
  {
   "cell_type": "markdown",
   "metadata": {},
   "source": [
    "### Start cleaning \n",
    "- No duplicates\n",
    "- No blank spaces (ex: `\" I love python \"` => `\"I love python\"`)\n",
    "- No errors\n",
    "- No empty values"
   ]
  },
  {
   "cell_type": "code",
   "execution_count": 156,
   "metadata": {},
   "outputs": [
    {
     "data": {
      "text/plain": [
       "(118714, 30)"
      ]
     },
     "execution_count": 156,
     "metadata": {},
     "output_type": "execute_result"
    }
   ],
   "source": [
    "df.drop_duplicates(inplace=True)\n",
    "df = df.drop(columns = [\"Country\", \"Fireplace\"])\n",
    "df.shape"
   ]
  },
  {
   "cell_type": "markdown",
   "metadata": {},
   "source": [
    "### Remove the house built more than 10 year in the future "
   ]
  },
  {
   "cell_type": "code",
   "execution_count": 157,
   "metadata": {},
   "outputs": [],
   "source": [
    "year_threshold = datetime.datetime.today().year + 10\n",
    "        \n",
    "df = df.loc[(df['ConstructionYear'].isnull()) | (df['ConstructionYear'] <= year_threshold)]\n",
    "df = df.loc[~((df['GardenArea'] > 0) & (df['Garden'] == False))]\n",
    "df = df.loc[df['LivingArea'] >= 9]\n",
    "# df = df.loc[df['TypeOfSale']]\n",
    "\n",
    "df.to_csv(\"../data/dataset1.csv\")"
   ]
  },
  {
   "cell_type": "markdown",
   "metadata": {},
   "source": [
    "#### Fill some empty values "
   ]
  },
  {
   "cell_type": "code",
   "execution_count": 158,
   "metadata": {},
   "outputs": [],
   "source": [
    "\n",
    "default = {'numeric': 0,'string': \"null\",}\n",
    "\n",
    "\n",
    "# Update specific columns with appropriate empty values\n",
    "numeric_columns = ['BathroomCount', 'BedroomCount', 'ConstructionYear', 'GardenArea', \n",
    "                   'LivingArea', 'MonthlyCharges', 'NumberOfFacades', 'Price', \n",
    "                   'RoomCount', 'ShowerCount', 'SurfaceOfPlot', 'SwimmingPool', \n",
    "                   'Terrace', 'ToiletCount', 'Furnished', 'Garden']\n",
    "\n",
    "\n",
    "fill_values = {col: default['numeric'] if col in numeric_columns else default['string'] for col in df.columns}\n",
    "fill_values['ConstructionYear'] = \"null\"  \n",
    "\n",
    "df.fillna(value=fill_values, inplace=True)\n",
    "\n",
    "data_csv1 = df.to_csv(\"../data/dataset1.csv\")"
   ]
  },
  {
   "cell_type": "markdown",
   "metadata": {},
   "source": [
    "# Strip values of blank space "
   ]
  },
  {
   "cell_type": "code",
   "execution_count": 159,
   "metadata": {},
   "outputs": [],
   "source": [
    "for i in df.columns :\n",
    "    #Check datatype for each columns\n",
    "    if df[i].dtype == \"str\" : \n",
    "        df[i] = df[i].map(str.strip)"
   ]
  }
 ],
 "metadata": {
  "kernelspec": {
   "display_name": ".venv",
   "language": "python",
   "name": "python3"
  },
  "language_info": {
   "codemirror_mode": {
    "name": "ipython",
    "version": 3
   },
   "file_extension": ".py",
   "mimetype": "text/x-python",
   "name": "python",
   "nbconvert_exporter": "python",
   "pygments_lexer": "ipython3",
   "version": "3.12.4"
  }
 },
 "nbformat": 4,
 "nbformat_minor": 2
}
